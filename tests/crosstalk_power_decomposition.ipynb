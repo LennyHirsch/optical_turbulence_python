{
 "cells": [
  {
   "attachments": {},
   "cell_type": "markdown",
   "metadata": {},
   "source": [
    "This is a quick script to check how I should do the power calculation when determining the crosstalk matrix. The aim is to decompose a HG11 mode into its LG components\n",
    "I know that I should expect there to be two hg Components, each with 50% of the power. If this is what I find then the crosstalk power calculation is working. Note that whilst the equation is not finding unity power, this seems to come down to the finite resolution of the simulation"
   ]
  },
  {
   "cell_type": "code",
   "execution_count": 1,
   "metadata": {},
   "outputs": [
    {
     "name": "stdout",
     "output_type": "stream",
     "text": [
      "Power in HG representation: 4.0 \n",
      " Power in Reconstruction: (3.9999999999998592+0j) \n",
      " Power in Basis Vector Representation: 3.999999999999858 \n",
      " Overlap Integral: (3.999999999999858+3.556475122562313e-19j)\n"
     ]
    }
   ],
   "source": [
    "import numpy as np\n",
    "import sys\n",
    "import matplotlib.pyplot as plt\n",
    "\n",
    "sys.path.append(\n",
    "    '/Users/ultandaly/Library/CloudStorage/OneDrive-UniversityofGlasgow/Projects/python_simulation/packages/')\n",
    "\n",
    "import propagation_functions as prop\n",
    "\n",
    "res = 256\n",
    "screen_width = 0.4\n",
    "wavelength = 1.55e-6\n",
    "beam_waist = 0.04\n",
    "\n",
    "max_lg_range = 3\n",
    "\n",
    "pixel_size = screen_width/res\n",
    "\n",
    "#BOTH LG AND HG ARE NORMALISED\n",
    "\n",
    "#define HG beam\n",
    "beam_1 = prop.BeamProfile(res, screen_width, wavelength)\n",
    "beam_1.hermite_gaussian_beam(1, 1, beam_waist)\n",
    "beam_1.field /= np.sqrt(np.sum(beam_1.field * np.conj(beam_1.field)))\n",
    "beam_1.field *= 2\n",
    "#define LG decomposition basis\n",
    "test_beams = []\n",
    "for l in range(-max_lg_range, max_lg_range):\n",
    "    for p in range(max_lg_range):\n",
    "        beam = prop.BeamProfile(res, screen_width, wavelength)\n",
    "        beam.laguerre_gaussian_beam(l, p, beam_waist)\n",
    "        beam.field /= np.sqrt(np.sum(beam.field * np.conj(beam.field)))\n",
    "        test_beams.append(beam)\n",
    "\n",
    "#find the overlap of the two beams. Note that I do not need to worry about dx for this part\n",
    "\n",
    "olap = []\n",
    "for i, tst in enumerate(test_beams):\n",
    "    olap.append(np.trapz(np.trapz(beam_1.field * np.conj(tst.field))))\n",
    "\n",
    "#reconstruct the HG mode from the calculatd LG components\n",
    "recon = np.zeros((res, res), dtype=np.complex128)\n",
    "i = 0\n",
    "for l in range(-max_lg_range, max_lg_range):\n",
    "    for p in range(max_lg_range):\n",
    "        beam = prop.BeamProfile(res, screen_width, wavelength)\n",
    "        beam.laguerre_gaussian_beam(l, p, beam_waist)\n",
    "        beam.field /= np.sqrt(np.sum(beam.field * np.conj(beam.field)))\n",
    "        recon += beam.field * olap[i]\n",
    "        i += 1\n",
    "\n",
    "#find the overlap of the reconstruction and the HG beam\n",
    "overlap_percent = np.sum(recon * np.conj(beam_1.field))\n",
    "\n",
    "#find powers of different representations\n",
    "hg_pow = np.sum(beam_1.field * np.conj(beam_1.field))\n",
    "recon_pow = np.sum(recon * np.conj(recon))\n",
    "basis_vec_pow = np.sum(np.abs(olap)**2.0)\n",
    "\n",
    "print(f\"Power in HG representation: {hg_pow} \\n Power in Reconstruction: {recon_pow} \\n Power in Basis Vector Representation: {basis_vec_pow} \\n Overlap Integral: {overlap_percent}\")"
   ]
  },
  {
   "attachments": {},
   "cell_type": "markdown",
   "metadata": {},
   "source": [
    "One last cell that contains all plots of interest"
   ]
  },
  {
   "cell_type": "code",
   "execution_count": null,
   "metadata": {},
   "outputs": [],
   "source": [
    "fig, axs = plt.subplots(1, 2)\n",
    "\n",
    "pcm = axs[0].imshow(np.abs(beam_1.field))\n",
    "fig.colorbar(pcm, ax = axs[0], fraction = 0.046, pad = 0.04)\n",
    "axs[0].set_title('HG Beam')\n",
    "\n",
    "pcm = axs[1].imshow(np.abs(recon))\n",
    "fig.colorbar(pcm, ax=axs[1],  fraction=0.046, pad=0.04)\n",
    "axs[1].set_title('Reconstruction')\n",
    "\n",
    "plt.tight_layout()\n",
    "\n"
   ]
  },
  {
   "cell_type": "code",
   "execution_count": null,
   "metadata": {},
   "outputs": [],
   "source": [
    "fig, ax = plt.subplots(1, 1)\n",
    "ax.plot(np.abs(olap)**2.0)\n",
    "ax.set_title('Power in LG Modes')\n"
   ]
  },
  {
   "cell_type": "code",
   "execution_count": null,
   "metadata": {},
   "outputs": [],
   "source": [
    "rnd_beam = 0.6*test_beams[7].field + 0.9 * test_beams[2].field\n",
    "plt.imshow(np.abs(rnd_beam))"
   ]
  },
  {
   "cell_type": "code",
   "execution_count": 10,
   "metadata": {},
   "outputs": [],
   "source": [
    "olap = []\n",
    "for i, tst in enumerate(test_beams):\n",
    "    olap.append(np.trapz(np.trapz(rnd_beam* np.conj(tst.field))))"
   ]
  },
  {
   "cell_type": "code",
   "execution_count": 11,
   "metadata": {},
   "outputs": [
    {
     "data": {
      "text/plain": [
       "array([8.67123357e-32, 2.75184575e-29, 8.10000000e-01, 1.99278456e-34,\n",
       "       4.38428319e-35, 1.92868125e-34, 4.88630568e-35, 3.60000000e-01,\n",
       "       3.08202729e-33, 9.50156876e-36, 1.24659824e-36, 1.93169412e-34,\n",
       "       6.48402344e-35, 1.01892170e-31, 4.38204915e-29, 6.90127025e-35,\n",
       "       1.49223298e-35, 4.58748045e-34])"
      ]
     },
     "execution_count": 11,
     "metadata": {},
     "output_type": "execute_result"
    }
   ],
   "source": [
    "np.abs(olap)**2.0"
   ]
  },
  {
   "cell_type": "code",
   "execution_count": null,
   "metadata": {},
   "outputs": [],
   "source": []
  }
 ],
 "metadata": {
  "kernelspec": {
   "display_name": "base",
   "language": "python",
   "name": "python3"
  },
  "language_info": {
   "codemirror_mode": {
    "name": "ipython",
    "version": 3
   },
   "file_extension": ".py",
   "mimetype": "text/x-python",
   "name": "python",
   "nbconvert_exporter": "python",
   "pygments_lexer": "ipython3",
   "version": "3.9.12"
  },
  "orig_nbformat": 4
 },
 "nbformat": 4,
 "nbformat_minor": 2
}
