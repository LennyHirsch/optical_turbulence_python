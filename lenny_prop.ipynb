{
 "cells": [
  {
   "cell_type": "markdown",
   "metadata": {},
   "source": [
    "Script to propagate LG modes over a certain distance, whilst subject to particulate absorbers in the beam path.\n",
    "All units are in metres."
   ]
  },
  {
   "cell_type": "code",
   "execution_count": 18,
   "metadata": {},
   "outputs": [
    {
     "name": "stdout",
     "output_type": "stream",
     "text": [
      "Particles per second: 0.048246\n",
      "Seconds per particle: 20.727106910417444s\n",
      "Time to pass: 4.2415899999999995ms\n"
     ]
    }
   ],
   "source": [
    "import propagation_functions as prop\n",
    "import particle_functions as parts\n",
    "import numpy as np\n",
    "import matplotlib.pyplot as plt\n",
    "from ipywidgets import interactive, fixed"
   ]
  },
  {
   "cell_type": "markdown",
   "metadata": {},
   "source": [
    "Setting initial parameters.\n",
    "Care should be taken to ensure beam does not get too close to the edge: phase can wrap and cause funky behaviour!"
   ]
  },
  {
   "cell_type": "code",
   "execution_count": 19,
   "metadata": {},
   "outputs": [],
   "source": [
    "res = 512 #i wouldn't recommend going too much higher than this for resolution\n",
    "screen_width = 4 # the cross sectional width and height of the simulation\n",
    "wvl = 0.65e-9 \n",
    "distance = 1\n",
    "n = 10"
   ]
  },
  {
   "cell_type": "markdown",
   "metadata": {},
   "source": [
    "Wrapper function containing beam definition, launch, propagation, and interaction with particulates.\n",
    "Reason for this wrapper is so we can run it interactively below."
   ]
  },
  {
   "cell_type": "code",
   "execution_count": 29,
   "metadata": {},
   "outputs": [],
   "source": [
    "def do_it_all(L=1, distance=1000, maalox=2, l0=0.001, L0=100.0, r0=0.1, turb=False):\n",
    "    # generate instance of beam class\n",
    "    beam_waist = 0.5\n",
    "    beam = prop.BeamProfile(512, beam_waist*16, 6.5e-9)\n",
    "\n",
    "    #generate the beam specifics, there is also a hg option, but with these options it is a simple collimated gaussian beam \n",
    "    \n",
    "    initial_z = 0\n",
    "    beam.laguerre_gaussian_beam(L, 0, beam_waist, initial_z)\n",
    "\n",
    "    #propagate the beam some distance \n",
    "    beam.free_space_prop(distance)\n",
    "\n",
    "    n, _ = parts.total_particles(maalox, 60)\n",
    "    n = int(n)\n",
    "\n",
    "    absorbers = prop.AbsorberScreen(4, 512, 11e-6, n)\n",
    "    absorbers.generate_absorbers()\n",
    "    beam.apply_absorber_screen(absorbers.grid)\n",
    "\n",
    "    #generate the phase screen - don't worry too much\n",
    "    if turb:\n",
    "        phz = prop.PhaseScreen(screen_width, res, r0, l0, L0)\n",
    "        phz.mvk_screen()\n",
    "        phz.mvk_sh_screen()\n",
    "\n",
    "        # #APPLY THE PHASE SCREEN TO BEAM \n",
    "        beam.apply_phase_screen(phz.phz + phz.phz_lo)\n",
    "\n",
    "    beam.free_space_prop(distance)\n",
    "\n",
    "    fig, (ax0, ax1) = plt.subplots(1, 2)\n",
    "    ax0.imshow(np.abs(beam.field))\n",
    "    ax1.imshow(np.angle(beam.field), cmap = 'hsv')\n",
    "    plt.show()"
   ]
  },
  {
   "cell_type": "code",
   "execution_count": 33,
   "metadata": {},
   "outputs": [
    {
     "data": {
      "application/vnd.jupyter.widget-view+json": {
       "model_id": "7c2b575c80a044c198e8d5e198760c11",
       "version_major": 2,
       "version_minor": 0
      },
      "text/plain": [
       "interactive(children=(IntSlider(value=1, description='L', max=5), IntSlider(value=1000, description='distance'…"
      ]
     },
     "execution_count": 33,
     "metadata": {},
     "output_type": "execute_result"
    }
   ],
   "source": [
    "w = interactive(do_it_all, L=(0,5), distance=(0,10000), maalox=(0,10,0.1), l0=(0, 0.1, 0.001), L0=(1,500), r0=(0.001,1,0.01))\n",
    "w"
   ]
  },
  {
   "cell_type": "code",
   "execution_count": null,
   "metadata": {},
   "outputs": [],
   "source": []
  }
 ],
 "metadata": {
  "kernelspec": {
   "display_name": "Python 3",
   "language": "python",
   "name": "python3"
  },
  "language_info": {
   "codemirror_mode": {
    "name": "ipython",
    "version": 3
   },
   "file_extension": ".py",
   "mimetype": "text/x-python",
   "name": "python",
   "nbconvert_exporter": "python",
   "pygments_lexer": "ipython3",
   "version": "3.11.3"
  },
  "orig_nbformat": 4
 },
 "nbformat": 4,
 "nbformat_minor": 2
}
